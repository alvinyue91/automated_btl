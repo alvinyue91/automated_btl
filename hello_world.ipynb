{
 "cells": [
  {
   "cell_type": "code",
   "execution_count": 1,
   "metadata": {},
   "outputs": [],
   "source": [
    "import numpy as np\n",
    "import pandas as pd\n",
    "from utils import config, database_service"
   ]
  },
  {
   "cell_type": "code",
   "execution_count": 2,
   "metadata": {},
   "outputs": [],
   "source": [
    "datalake_db = database_service.DataService(config.get_config()['datalake_write'])"
   ]
  },
  {
   "cell_type": "markdown",
   "metadata": {},
   "source": [
    "## SG BTL Loan Universe"
   ]
  },
  {
   "cell_type": "code",
   "execution_count": 3,
   "metadata": {},
   "outputs": [],
   "source": [
    "sg_btl = datalake_db.query_postgres('''\n",
    "    SELECT \n",
    "        id AS loan_id,\n",
    "        loan_code,\n",
    "        amount,\n",
    "        interest_rate,\n",
    "        interest_type,\n",
    "        tenor,\n",
    "        tenor_type\n",
    "    FROM loan_db.loans\n",
    "    WHERE country_code = 'SG'\n",
    "    AND product_id IN (8, 10)\n",
    "    AND status LIKE '%%SET%%'\n",
    "''')"
   ]
  },
  {
   "cell_type": "code",
   "execution_count": 4,
   "metadata": {},
   "outputs": [
    {
     "name": "stdout",
     "output_type": "stream",
     "text": [
      "*There are a total of 431 disbursed SG BTL loans.*\n"
     ]
    }
   ],
   "source": [
    "print('*There are a total of {} disbursed SG BTL loans.*'.format(sg_btl.shape[0]))"
   ]
  },
  {
   "cell_type": "markdown",
   "metadata": {},
   "source": [
    "## SG Financial Statements"
   ]
  },
  {
   "cell_type": "code",
   "execution_count": 5,
   "metadata": {},
   "outputs": [],
   "source": [
    "sg_balance_sheet = datalake_db.query_postgres('''\n",
    "    SELECT DISTINCT ON (a.loan_code, a.date, a.level_1, a.level_2, a.level_3)\n",
    "        b.id AS loan_id,\n",
    "        'CREDIT SCORECARD' AS source\n",
    "    FROM credit_scorecard.tbl_sg_balance_sheet a\n",
    "    INNER JOIN (\n",
    "        SELECT * \n",
    "        FROM loan_db.loans\n",
    "        WHERE country_code = 'SG'\n",
    "        AND product_id IN (8, 10)\n",
    "        AND status LIKE '%%SET%%') b ON a.loan_code=b.loan_code\n",
    "    ORDER BY a.loan_code, a.date, a.level_1, a.level_2, a.level_3, a.created_time DESC\n",
    "''')\n",
    "\n",
    "sg_income_statement = datalake_db.query_postgres('''\n",
    "    SELECT DISTINCT ON (a.loan_code, a.date, a.level_1, a.level_2)\n",
    "        b.id AS loan_id,\n",
    "        'CREDIT SCORECARD' AS source\n",
    "    FROM credit_scorecard.tbl_sg_income_statement a\n",
    "    INNER JOIN (\n",
    "        SELECT * \n",
    "        FROM loan_db.loans\n",
    "        WHERE country_code = 'SG'\n",
    "        AND product_id IN (8, 10)\n",
    "        AND status LIKE '%%SET%%') b ON a.loan_code=b.loan_code\n",
    "    ORDER BY a.loan_code, a.date, a.level_1, a.level_2, a.created_time DESC\n",
    "''')"
   ]
  },
  {
   "cell_type": "code",
   "execution_count": 6,
   "metadata": {},
   "outputs": [
    {
     "name": "stdout",
     "output_type": "stream",
     "text": [
      "*There are a total of 215 parsed SG balance sheets.*\n",
      "*There are a total of 217 parsed SG income statements.*\n"
     ]
    }
   ],
   "source": [
    "print('*There are a total of {} parsed SG balance sheets.*'.format(len(sg_balance_sheet['loan_id'].unique())))\n",
    "print('*There are a total of {} parsed SG income statements.*'.format(len(sg_income_statement['loan_id'].unique())))"
   ]
  },
  {
   "cell_type": "markdown",
   "metadata": {},
   "source": [
    "## SG Bank Statements"
   ]
  },
  {
   "cell_type": "code",
   "execution_count": 7,
   "metadata": {},
   "outputs": [],
   "source": [
    "sg_bank_statements_ocr = datalake_db.query_postgres('''\n",
    "    SELECT DISTINCT \n",
    "        a.loan_id,\n",
    "        'OCR' AS source\n",
    "    FROM loan_documents_data_db.loans_to_bank_accounts a\n",
    "    INNER JOIN (\n",
    "        SELECT * \n",
    "        FROM loan_db.loans\n",
    "        WHERE country_code = 'SG'\n",
    "        AND product_id IN (8, 10)\n",
    "        AND status LIKE '%%SET%%') b ON a.loan_id=b.id\n",
    "''')\n",
    "\n",
    "sg_bank_statements_credit_scorecard = datalake_db.query_postgres('''\n",
    "    SELECT DISTINCT \n",
    "        b.id AS loan_id,\n",
    "        'CREDIT SCORECARD' AS source\n",
    "    FROM credit_scorecard.tbl_sg_bank_analysis a\n",
    "    INNER JOIN (\n",
    "        SELECT * \n",
    "        FROM loan_db.loans\n",
    "        WHERE country_code = 'SG'\n",
    "        AND product_id IN (8, 10)\n",
    "        AND status LIKE '%%SET%%') b ON a.loan_code=b.loan_code\n",
    "''')\n",
    "\n",
    "\n",
    "sg_bank_statements_microloan = datalake_db.query_postgres('''\n",
    "    SELECT DISTINCT ON (a.loan_id, a.bank_account_ref_id)\n",
    "        a.loan_id,\n",
    "        'MICROLOAN DB' AS source\n",
    "    FROM microloan.bank_statement_details a\n",
    "    INNER JOIN (\n",
    "        SELECT * \n",
    "        FROM loan_db.loans\n",
    "        WHERE country_code = 'SG'\n",
    "        AND product_id IN (8, 10)\n",
    "        AND status LIKE '%%SET%%') b ON a.loan_id=b.id\n",
    "    ORDER BY a.loan_id, a.bank_account_ref_id, created_time DESC\n",
    "''')\n",
    "\n",
    "sg_bank_statements = pd.concat([sg_bank_statements_ocr,\n",
    "                                sg_bank_statements_credit_scorecard,\n",
    "                                sg_bank_statements_microloan])"
   ]
  },
  {
   "cell_type": "code",
   "execution_count": 8,
   "metadata": {},
   "outputs": [
    {
     "name": "stdout",
     "output_type": "stream",
     "text": [
      "*There are a total of 182 parsed SG bank statements.*\n",
      "There are a total of 67 parsed SG Internal OCR bank statements.\n",
      "There are a total of 56 parsed SG Perfios bank statements.\n",
      "There are a total of 59 parsed SG Microloan bank statements.\n"
     ]
    }
   ],
   "source": [
    "print('*There are a total of {} parsed SG bank statements.*'.format(sg_bank_statements.shape[0]))\n",
    "print('There are a total of {} parsed SG Internal OCR bank statements.'.format(sg_bank_statements_ocr.shape[0]))\n",
    "print('There are a total of {} parsed SG Perfios bank statements.'.format(sg_bank_statements_credit_scorecard.shape[0]))\n",
    "print('There are a total of {} parsed SG Microloan bank statements.'.format(sg_bank_statements_microloan.shape[0]))"
   ]
  },
  {
   "cell_type": "markdown",
   "metadata": {},
   "source": [
    "## SG Credit Documents CBS"
   ]
  },
  {
   "cell_type": "code",
   "execution_count": 9,
   "metadata": {},
   "outputs": [],
   "source": [
    "sg_cbs_loan_doc_db = datalake_db.query_postgres('''\n",
    "    SELECT \n",
    "        a.loan_id,\n",
    "        'LOAN DOC DB' AS source\n",
    "    FROM loan_documents_data_db.loans_to_cbs a\n",
    "    INNER JOIN (\n",
    "        SELECT *\n",
    "        FROM loan_db.loans\n",
    "        WHERE country_code = 'SG'\n",
    "        AND product_id IN (8, 10)\n",
    "        AND status LIKE '%%SET%%') b ON a.loan_id=b.id\n",
    "''')\n",
    "\n",
    "sg_cbs_dms = datalake_db.query_postgres('''\n",
    "    SELECT DISTINCT ON (loan_id)\n",
    "        a.loan_id,\n",
    "        'DMS DB' AS source\n",
    "    FROM dms.loan_doc a\n",
    "    INNER JOIN (\n",
    "        SELECT *\n",
    "        FROM loan_db.loans\n",
    "        WHERE country_code = 'SG'\n",
    "        AND product_id IN (8, 10)\n",
    "        AND status LIKE '%%SET%%') b ON a.loan_id=b.id\n",
    "    WHERE a.type='CBS'\n",
    "    AND a.json <> ''\n",
    "    AND a.json IS NOT NULL\n",
    "    ORDER BY a.loan_id, a.created_time DESC\n",
    "''')\n",
    "\n",
    "sg_cbs = sg_cbs_loan_doc_db.append(sg_cbs_dms, ignore_index=True)"
   ]
  },
  {
   "cell_type": "code",
   "execution_count": 10,
   "metadata": {},
   "outputs": [
    {
     "name": "stdout",
     "output_type": "stream",
     "text": [
      "*There are a total of 200 parsed SG CBS documents*\n",
      "There are a total of 195 parsed SG Loan Doc DB CBS documents.\n",
      "There are a total of 186 parsed SG DMS CBS documents.\n"
     ]
    }
   ],
   "source": [
    "print('*There are a total of {} parsed SG CBS documents*'.format(len(sg_cbs['loan_id'].unique())))\n",
    "print('There are a total of {} parsed SG Loan Doc DB CBS documents.'.format(sg_cbs_loan_doc_db.shape[0]))\n",
    "print('There are a total of {} parsed SG DMS CBS documents.'.format(sg_cbs_dms.shape[0]))"
   ]
  },
  {
   "cell_type": "markdown",
   "metadata": {},
   "source": [
    "## SG Credit Documents BRI"
   ]
  },
  {
   "cell_type": "code",
   "execution_count": 11,
   "metadata": {},
   "outputs": [],
   "source": [
    "sg_bri = datalake_db.query_postgres('''\n",
    "    SELECT DISTINCT ON (loan_id)\n",
    "        a.loan_id,\n",
    "        'DMS DB' AS source\n",
    "    FROM dms.loan_doc a\n",
    "    INNER JOIN (\n",
    "        SELECT *\n",
    "        FROM loan_db.loans\n",
    "        WHERE country_code = 'SG'\n",
    "        AND product_id IN (8, 10)\n",
    "        AND status LIKE '%%SET%%') b ON a.loan_id=b.id\n",
    "    WHERE a.type LIKE '%%BRI%%'\n",
    "    AND a.json <> ''\n",
    "    AND a.json IS NOT NULL\n",
    "    ORDER BY a.loan_id, a.created_time DESC\n",
    "''')\n",
    "\n",
    "sg_bri_html = datalake_db.query_postgres('''\n",
    "    SELECT DISTINCT ON (loan_id)\n",
    "        a.loan_id,\n",
    "        'DMS DB' AS source\n",
    "    FROM dms.loan_doc a\n",
    "    INNER JOIN (\n",
    "        SELECT *\n",
    "        FROM loan_db.loans\n",
    "        WHERE country_code = 'SG'\n",
    "        AND product_id IN (8, 10)\n",
    "        AND status LIKE '%%SET%%') b ON a.loan_id=b.id\n",
    "    WHERE a.type = 'BRI_HTML'\n",
    "    AND a.json <> ''\n",
    "    AND a.json IS NOT NULL\n",
    "    ORDER BY a.loan_id, a.created_time DESC\n",
    "''')"
   ]
  },
  {
   "cell_type": "code",
   "execution_count": 12,
   "metadata": {},
   "outputs": [
    {
     "name": "stdout",
     "output_type": "stream",
     "text": [
      "*There are a total of 242 parsed SG BRI documents*\n",
      "There are a total of 12 parsed SG BRI HTML documents\n"
     ]
    }
   ],
   "source": [
    "print('*There are a total of {} parsed SG BRI documents*'.format(len(sg_bri['loan_id'].unique())))\n",
    "print('There are a total of {} parsed SG BRI HTML documents'.format(len(sg_bri_html['loan_id'].unique())))"
   ]
  },
  {
   "cell_type": "markdown",
   "metadata": {},
   "source": [
    "## SG Credit Documents BRC"
   ]
  },
  {
   "cell_type": "code",
   "execution_count": 13,
   "metadata": {},
   "outputs": [],
   "source": [
    "sg_brc = datalake_db.query_postgres('''\n",
    "    SELECT DISTINCT ON (loan_id)\n",
    "        a.loan_id,\n",
    "        'DMS DB' AS source\n",
    "    FROM dms.loan_doc a\n",
    "    INNER JOIN (\n",
    "        SELECT *\n",
    "        FROM loan_db.loans\n",
    "        WHERE country_code = 'SG'\n",
    "        AND product_id IN (8, 10)\n",
    "        AND status LIKE '%%SET%%') b ON a.loan_id=b.id\n",
    "    WHERE a.type LIKE '%%BRC%%'\n",
    "    AND a.json <> ''\n",
    "    AND a.json IS NOT NULL\n",
    "    ORDER BY a.loan_id, a.created_time DESC\n",
    "''')\n",
    "\n",
    "sg_brc_html = datalake_db.query_postgres('''\n",
    "    SELECT DISTINCT ON (loan_id)\n",
    "        a.loan_id,\n",
    "        'DMS DB' AS source\n",
    "    FROM dms.loan_doc a\n",
    "    INNER JOIN (\n",
    "        SELECT *\n",
    "        FROM loan_db.loans\n",
    "        WHERE country_code = 'SG'\n",
    "        AND product_id IN (8, 10)\n",
    "        AND status LIKE '%%SET%%') b ON a.loan_id=b.id\n",
    "    WHERE a.type = 'BRC_HTML'\n",
    "    AND a.json <> ''\n",
    "    AND a.json IS NOT NULL\n",
    "    ORDER BY a.loan_id, a.created_time DESC\n",
    "''')"
   ]
  },
  {
   "cell_type": "code",
   "execution_count": 14,
   "metadata": {},
   "outputs": [
    {
     "name": "stdout",
     "output_type": "stream",
     "text": [
      "*There are a total of 276 parsed SG BRC documents*\n",
      "*There are a total of 14 parsed SG BRC HTML documents*\n"
     ]
    }
   ],
   "source": [
    "print('*There are a total of {} parsed SG BRC documents*'.format(len(sg_brc['loan_id'].unique())))\n",
    "print('*There are a total of {} parsed SG BRC HTML documents*'.format(len(sg_brc_html['loan_id'].unique())))"
   ]
  },
  {
   "cell_type": "markdown",
   "metadata": {},
   "source": [
    "## SG BTL Data Quality Overview"
   ]
  },
  {
   "cell_type": "code",
   "execution_count": 15,
   "metadata": {},
   "outputs": [],
   "source": [
    "sg_btl['financials_balance_sheet'] = np.where(sg_btl['loan_id'].isin(sg_balance_sheet['loan_id'].unique()), 1, 0)\n",
    "sg_btl['financials_income_statement'] = np.where(sg_btl['loan_id'].isin(sg_income_statement['loan_id'].unique()), 1, 0)\n",
    "sg_btl['bank_statements'] = np.where(sg_btl['loan_id'].isin(sg_bank_statements['loan_id'].unique()), 1, 0)\n",
    "sg_btl['credit_doc_cbs'] = np.where(sg_btl['loan_id'].isin(sg_cbs['loan_id'].unique()), 1, 0)\n",
    "sg_btl['credit_doc_brc'] = np.where(sg_btl['loan_id'].isin(sg_brc['loan_id'].unique()), 1, 0)\n",
    "sg_btl['credit_doc_bri'] = np.where(sg_btl['loan_id'].isin(sg_bri['loan_id'].unique()), 1, 0)"
   ]
  },
  {
   "cell_type": "code",
   "execution_count": 16,
   "metadata": {},
   "outputs": [],
   "source": [
    "sg_btl_2 = sg_btl[['loan_id',\n",
    "                   'financials_balance_sheet',\n",
    "                   'financials_income_statement',\n",
    "                   'bank_statements',\n",
    "                   'credit_doc_cbs',\n",
    "                   'credit_doc_brc',\n",
    "                   'credit_doc_bri']].dropna(axis=0).copy()\n",
    "\n",
    "sg_btl_2['total'] = sg_btl[['financials_balance_sheet',\n",
    "                            'financials_income_statement',\n",
    "                            'bank_statements',\n",
    "                            'credit_doc_cbs',\n",
    "                            'credit_doc_brc',\n",
    "                            'credit_doc_bri']].sum(axis=1)"
   ]
  },
  {
   "cell_type": "code",
   "execution_count": 17,
   "metadata": {},
   "outputs": [
    {
     "name": "stdout",
     "output_type": "stream",
     "text": [
      "139\n",
      "14\n",
      "27\n",
      "43\n",
      "34\n",
      "73\n",
      "101\n"
     ]
    }
   ],
   "source": [
    "for i in range(0, 7):\n",
    "    print(sg_btl_2[sg_btl_2['total']==i].shape[0])"
   ]
  }
 ],
 "metadata": {
  "kernelspec": {
   "display_name": "automated_btl",
   "language": "python",
   "name": "automated_btl"
  },
  "language_info": {
   "codemirror_mode": {
    "name": "ipython",
    "version": 3
   },
   "file_extension": ".py",
   "mimetype": "text/x-python",
   "name": "python",
   "nbconvert_exporter": "python",
   "pygments_lexer": "ipython3",
   "version": "3.6.8"
  }
 },
 "nbformat": 4,
 "nbformat_minor": 2
}
